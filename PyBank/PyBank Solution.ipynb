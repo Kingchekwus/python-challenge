{
 "cells": [
  {
   "cell_type": "code",
   "execution_count": 2,
   "metadata": {},
   "outputs": [],
   "source": [
    "import os \n",
    "import csv\n",
    "\n"
   ]
  },
  {
   "cell_type": "code",
   "execution_count": 112,
   "metadata": {},
   "outputs": [],
   "source": [
    "budget_data = os.path.join('budget_data.csv')\n",
    "output_file = os.path.join(\"budget_data.txt\")\n"
   ]
  },
  {
   "cell_type": "code",
   "execution_count": 116,
   "metadata": {
    "scrolled": true
   },
   "outputs": [
    {
     "name": "stdout",
     "output_type": "stream",
     "text": [
      "\n",
      "Financial Analysis\n",
      "----------------------------\n",
      "Total Months: 86\n",
      "Total Revenue: $464062472\n",
      "Average Revenue Change: $55924.916666666664\n",
      "Greatest Increase in Revenue: Feb-17 ($671099)\n",
      "Greatest Decrease in Revenue: Feb-17 ($0)\n",
      "\n"
     ]
    }
   ],
   "source": [
    "with open(budget_data, newline='') as csvfile:\n",
    "    csvreader = csv.reader(csvfile, delimiter=',')\n",
    "    csv_header = next(csvfile)  \n",
    "\n",
    "    #print(csvreader)\n",
    "    total_months = 0\n",
    "    \n",
    "    \n",
    "    \n",
    "    for row in csvreader:\n",
    "        total_months = total_months + 1\n",
    "        total_revenue = total_revenue + int(row[1])\n",
    "       \n",
    "        \n",
    "    #print(str(total_months))\n",
    "    \n",
    "    \n",
    "      #Revenue change month by month  \n",
    "    revenue_change = int(row[1]) - prev_revenue\n",
    "    prev_revenue = int(row[1])\n",
    "    revenue_change_list = revenue_change_list + [revenue_change]\n",
    "    month_of_change = month_of_change + [row[0]]\n",
    "    \n",
    "    # Greatest % increase\n",
    "    if (revenue_change > greatest_increase[1]):\n",
    "            greatest_increase[0] = row[0]\n",
    "            greatest_increase[1] = revenue_change\n",
    "  \n",
    "    # Greatest % decrease\n",
    "    if (revenue_change < greatest_decrease[1]):\n",
    "            greatest_decrease[0] = row[0]\n",
    "            greatest_decrease[1] = revenue_change\n",
    "\n",
    "    #Average Revenue Change        \n",
    "    revenue_avg = sum(revenue_change_list) / len(revenue_change_list)\n",
    "    \n",
    "    input = (\n",
    "        f\"\\nFinancial Analysis\\n\"\n",
    "        f\"----------------------------\\n\"\n",
    "        f\"Total Months: {total_months}\\n\"\n",
    "        f\"Total Revenue: ${total_revenue}\\n\"\n",
    "        f\"Average Revenue Change: ${revenue_avg}\\n\"\n",
    "        f\"Greatest Increase in Revenue: {greatest_increase[0]} (${greatest_increase[1]})\\n\"\n",
    "        f\"Greatest Decrease in Revenue: {greatest_decrease[0]} (${greatest_decrease[1]})\\n\")\n",
    "\n",
    "\n",
    "print(input)\n",
    "\n",
    "\n",
    "output_file = os.path.join(\"budget_data.txt\")\n",
    "\n",
    "with open(output_file, \"w\") as text_file:\n",
    "    text_file.write(input)"
   ]
  },
  {
   "cell_type": "code",
   "execution_count": 97,
   "metadata": {},
   "outputs": [],
   "source": [
    "total_months = []\n",
    "prev_revenue = 0\n",
    "month_change = []\n",
    "revenue_change_list = []\n",
    "greatest_increase = [\"\", 0]\n",
    "greatest_decrease = [\"\", 99999999]\n",
    "total_revenue = 0\n"
   ]
  },
  {
   "cell_type": "code",
   "execution_count": null,
   "metadata": {},
   "outputs": [],
   "source": []
  },
  {
   "cell_type": "code",
   "execution_count": null,
   "metadata": {},
   "outputs": [],
   "source": []
  },
  {
   "cell_type": "code",
   "execution_count": null,
   "metadata": {},
   "outputs": [],
   "source": []
  }
 ],
 "metadata": {
  "kernelspec": {
   "display_name": "Python 3",
   "language": "python",
   "name": "python3"
  },
  "language_info": {
   "codemirror_mode": {
    "name": "ipython",
    "version": 3
   },
   "file_extension": ".py",
   "mimetype": "text/x-python",
   "name": "python",
   "nbconvert_exporter": "python",
   "pygments_lexer": "ipython3",
   "version": "3.7.0"
  }
 },
 "nbformat": 4,
 "nbformat_minor": 2
}
