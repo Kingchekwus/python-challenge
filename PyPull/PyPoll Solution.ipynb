{
 "cells": [
  {
   "cell_type": "code",
   "execution_count": 1,
   "metadata": {},
   "outputs": [],
   "source": [
    "import os \n",
    "import csv"
   ]
  },
  {
   "cell_type": "code",
   "execution_count": 44,
   "metadata": {},
   "outputs": [],
   "source": [
    "election_data = os.path.join('election_data.csv')\n",
    "output_file = os.path.join('election_data.txt')"
   ]
  },
  {
   "cell_type": "code",
   "execution_count": 134,
   "metadata": {
    "scrolled": true
   },
   "outputs": [
    {
     "name": "stdout",
     "output_type": "stream",
     "text": [
      "======================================================\n",
      "|                  Election Results                  |\n",
      "======================================================\n",
      "Total Votes: 42252012\n",
      "~~~~~~~~~~~~~~~~~~~~~~~~~~~~~~~~~~~~~~~~~~~~~~~~~~~~~~\n",
      "O'Tooley : 0.0% (11)\n",
      "~~~~~~~~~~~~~~~~~~~~~~~~~~~~~~~~~~~~~~~~~~~~~~~~~~~~~~\n",
      "Election winner: O'TOOLEY\n",
      "~~~~~~~~~~~~~~~~~~~~~~~~~~~~~~~~~~~~~~~~~~~~~~~~~~~~~~\n"
     ]
    }
   ],
   "source": [
    "with open(election_data, newline='') as csvfile:\n",
    "    csvreader = csv.reader(csvfile, delimiter=',')\n",
    "    csv_header = next(csvfile)  \n",
    "    \n",
    "    for row in csvreader:\n",
    "        total_votes += 1\n",
    "        candidate_in = (row[2])\n",
    "    if candidate_in in candidates_unique:\n",
    "        candidate_index = candidates_unique.index(candidate_in)\n",
    "        candidate_vote_count[candidate_index] = candidate_vote_count[candidate_index] + 1\n",
    "\n",
    "    else:\n",
    "        candidates_unique.append(candidate_in)\n",
    "        candidate_vote_count.append(1)\n",
    "    \n",
    "    pct = []\n",
    "    max_votes = candidate_vote_count[0]\n",
    "    max_index = 0\n",
    "\n",
    "    for x in range(len(candidates_unique)):\n",
    "        vote_pct = round(candidate_vote_count[x]/total_votes*100, 2)\n",
    "        pct.append(vote_pct)\n",
    "    \n",
    "    if candidate_vote_count[x] > max_votes:\n",
    "        max_votes = candidate_vote_count[x]\n",
    "        max_index = x\n",
    "\n",
    "    election_winner = candidates_unique[max_index] \n",
    "\n",
    "print('======================================================')\n",
    "print('|                  Election Results                  |')\n",
    "print('======================================================')\n",
    "print(f'Total Votes: {total_votes}')\n",
    "print('~~~~~~~~~~~~~~~~~~~~~~~~~~~~~~~~~~~~~~~~~~~~~~~~~~~~~~')\n",
    "for x in range(len(candidates_unique)):\n",
    "    print(f'{candidates_unique[x]} : {pct[x]}% ({candidate_vote_count[x]})')\n",
    "print('~~~~~~~~~~~~~~~~~~~~~~~~~~~~~~~~~~~~~~~~~~~~~~~~~~~~~~')\n",
    "print(f'Election winner: {election_winner.upper()}')\n",
    "print('~~~~~~~~~~~~~~~~~~~~~~~~~~~~~~~~~~~~~~~~~~~~~~~~~~~~~~')\n",
    "  \n",
    "\n",
    "output_file = os.path.join(\"pypoll_election_results.txt\")\n",
    "with open(output_file, \"w\", newline=\"\") as datafile:\n",
    "    datafile.write('======================================================\\n')\n",
    "    datafile.write('|                  Election Results                  |\\n')\n",
    "    datafile.write('======================================================\\n')\n",
    "    datafile.write(f'Total Votes: {total_votes}\\n')\n",
    "    datafile.write('~~~~~~~~~~~~~~~~~~~~~~~~~~~~~~~~~~~~~~~~~~~~~~~~~~~~~~\\n')\n",
    "    for x in range(len(candidates_unique)):\n",
    "        datafile.write(f'{candidates_unique[x]} : {pct[x]}% ({candidate_vote_count[x]})\\n')\n",
    "    datafile.write('~~~~~~~~~~~~~~~~~~~~~~~~~~~~~~~~~~~~~~~~~~~~~~~~~~~~~~\\n')\n",
    "    datafile.write(f'Election winner: {election_winner.upper()}\\n')\n",
    "    datafile.write('~~~~~~~~~~~~~~~~~~~~~~~~~~~~~~~~~~~~~~~~~~~~~~~~~~~~~~\\n')\n",
    "    datafile.write(\"---END OF REPORT---\")\n",
    "\n"
   ]
  },
  {
   "cell_type": "code",
   "execution_count": 120,
   "metadata": {},
   "outputs": [],
   "source": [
    "total_votes = 0\n",
    "candidates_unique = []\n",
    "candidate_vote_count = []\n",
    "\n"
   ]
  },
  {
   "cell_type": "code",
   "execution_count": null,
   "metadata": {},
   "outputs": [],
   "source": []
  },
  {
   "cell_type": "code",
   "execution_count": null,
   "metadata": {},
   "outputs": [],
   "source": []
  },
  {
   "cell_type": "code",
   "execution_count": null,
   "metadata": {},
   "outputs": [],
   "source": []
  }
 ],
 "metadata": {
  "kernelspec": {
   "display_name": "Python 3",
   "language": "python",
   "name": "python3"
  },
  "language_info": {
   "codemirror_mode": {
    "name": "ipython",
    "version": 3
   },
   "file_extension": ".py",
   "mimetype": "text/x-python",
   "name": "python",
   "nbconvert_exporter": "python",
   "pygments_lexer": "ipython3",
   "version": "3.7.0"
  }
 },
 "nbformat": 4,
 "nbformat_minor": 2
}
